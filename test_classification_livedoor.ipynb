{
 "cells": [
  {
   "cell_type": "markdown",
   "id": "cd4db035",
   "metadata": {},
   "source": [
    "reference \n",
    "- https://nbviewer.jupyter.org/github/nekoumei/Comparison-DocClassification/blob/master/src/Classification_News.ipynb"
   ]
  },
  {
   "cell_type": "code",
   "execution_count": 6,
   "id": "e3cc576d",
   "metadata": {},
   "outputs": [],
   "source": [
    "import glob\n",
    "import os\n",
    "from collections import defaultdict\n",
    "from tqdm.notebook import tqdm\n",
    "import time\n",
    "\n",
    "import lightgbm as lgb\n",
    "import numpy as np\n",
    "import MeCab\n",
    "import pandas as pd\n",
    "from gensim.models import Doc2Vec\n",
    "from gensim.models.doc2vec import TaggedDocument\n",
    "from gensim.models import word2vec\n",
    "from sklearn.feature_extraction.text import CountVectorizer, TfidfVectorizer\n",
    "from sklearn.model_selection import StratifiedKFold\n",
    "from sklearn.decomposition import TruncatedSVD\n",
    "from sklearn.mixture import GaussianMixture\n",
    "\n",
    "from sklearn.metrics import accuracy_score\n",
    "from sklearn.metrics import f1_score\n",
    "from sklearn.metrics import precision_score\n",
    "from sklearn.metrics import recall_score\n",
    "from sklearn.model_selection import train_test_split"
   ]
  },
  {
   "cell_type": "markdown",
   "id": "27671028",
   "metadata": {},
   "source": [
    "## step1. load text files"
   ]
  },
  {
   "cell_type": "code",
   "execution_count": 2,
   "id": "48429564",
   "metadata": {},
   "outputs": [
    {
     "data": {
      "application/vnd.jupyter.widget-view+json": {
       "model_id": "8ee748c5486b4e4db99b36201611e3e4",
       "version_major": 2,
       "version_minor": 0
      },
      "text/plain": [
       "  0%|          | 0/9 [00:00<?, ?it/s]"
      ]
     },
     "metadata": {},
     "output_type": "display_data"
    },
    {
     "data": {
      "application/vnd.jupyter.widget-view+json": {
       "model_id": "e43c074938ea47898e1b91a4158eb085",
       "version_major": 2,
       "version_minor": 0
      },
      "text/plain": [
       "  0%|          | 0/870 [00:00<?, ?it/s]"
      ]
     },
     "metadata": {},
     "output_type": "display_data"
    },
    {
     "data": {
      "application/vnd.jupyter.widget-view+json": {
       "model_id": "d93a9164773f489ab7e0aaa63d40c47b",
       "version_major": 2,
       "version_minor": 0
      },
      "text/plain": [
       "  0%|          | 0/870 [00:00<?, ?it/s]"
      ]
     },
     "metadata": {},
     "output_type": "display_data"
    },
    {
     "data": {
      "application/vnd.jupyter.widget-view+json": {
       "model_id": "88e07ae4014948c29014bc40437badc0",
       "version_major": 2,
       "version_minor": 0
      },
      "text/plain": [
       "  0%|          | 0/864 [00:00<?, ?it/s]"
      ]
     },
     "metadata": {},
     "output_type": "display_data"
    },
    {
     "data": {
      "application/vnd.jupyter.widget-view+json": {
       "model_id": "afcec90e299a4a0292c6f6266ea2c4b2",
       "version_major": 2,
       "version_minor": 0
      },
      "text/plain": [
       "  0%|          | 0/511 [00:00<?, ?it/s]"
      ]
     },
     "metadata": {},
     "output_type": "display_data"
    },
    {
     "data": {
      "application/vnd.jupyter.widget-view+json": {
       "model_id": "c53bbb0c74974d9394d974b8b51c52d5",
       "version_major": 2,
       "version_minor": 0
      },
      "text/plain": [
       "  0%|          | 0/870 [00:00<?, ?it/s]"
      ]
     },
     "metadata": {},
     "output_type": "display_data"
    },
    {
     "data": {
      "application/vnd.jupyter.widget-view+json": {
       "model_id": "e37039b5931c4874afb6ab467e44c353",
       "version_major": 2,
       "version_minor": 0
      },
      "text/plain": [
       "  0%|          | 0/842 [00:00<?, ?it/s]"
      ]
     },
     "metadata": {},
     "output_type": "display_data"
    },
    {
     "data": {
      "application/vnd.jupyter.widget-view+json": {
       "model_id": "0f8808638ea4465482b2630efb68d66e",
       "version_major": 2,
       "version_minor": 0
      },
      "text/plain": [
       "  0%|          | 0/870 [00:00<?, ?it/s]"
      ]
     },
     "metadata": {},
     "output_type": "display_data"
    },
    {
     "data": {
      "application/vnd.jupyter.widget-view+json": {
       "model_id": "8ba584a583c84de0a379f47c4fe23d04",
       "version_major": 2,
       "version_minor": 0
      },
      "text/plain": [
       "  0%|          | 0/900 [00:00<?, ?it/s]"
      ]
     },
     "metadata": {},
     "output_type": "display_data"
    },
    {
     "data": {
      "application/vnd.jupyter.widget-view+json": {
       "model_id": "39585f63fb784a2f8974a936ee2fa31c",
       "version_major": 2,
       "version_minor": 0
      },
      "text/plain": [
       "  0%|          | 0/770 [00:00<?, ?it/s]"
      ]
     },
     "metadata": {},
     "output_type": "display_data"
    }
   ],
   "source": [
    "#preprocessing\n",
    "dirlist = [\"dokujo-tsushin\",\"it-life-hack\",\"kaden-channel\",\"livedoor-homme\",\n",
    "           \"movie-enter\",\"peachy\",\"smax\",\"sports-watch\",\"topic-news\"]\n",
    "\n",
    "df = pd.DataFrame(columns=[\"label\",\"news\"])\n",
    "\n",
    "for i in tqdm(dirlist):\n",
    "    path = \"./data/\"+i+\"/*.txt\"\n",
    "    files = glob.glob(path)\n",
    "    files.pop()\n",
    "    for j in tqdm(files):\n",
    "        f = open(j)\n",
    "        data = f.read() \n",
    "        f.close()\n",
    "        t = pd.Series([i,\"\".join(data.split(\"\\n\")[3:])],index = df.columns)\n",
    "        df  = df.append(t,ignore_index=True)"
   ]
  },
  {
   "cell_type": "code",
   "execution_count": 35,
   "id": "3adc873d",
   "metadata": {},
   "outputs": [],
   "source": [
    "df = df.iloc[:4000]"
   ]
  },
  {
   "cell_type": "markdown",
   "id": "d37ed641",
   "metadata": {},
   "source": [
    "## step2. preprocess"
   ]
  },
  {
   "cell_type": "code",
   "execution_count": 36,
   "id": "ad4c95a6",
   "metadata": {},
   "outputs": [
    {
     "data": {
      "application/vnd.jupyter.widget-view+json": {
       "model_id": "60e9434510604876a0c20ef3448d53d0",
       "version_major": 2,
       "version_minor": 0
      },
      "text/plain": [
       "  0%|          | 0/3000 [00:00<?, ?it/s]"
      ]
     },
     "metadata": {},
     "output_type": "display_data"
    }
   ],
   "source": [
    "# Loop over each news article.\n",
    "import re \n",
    "tokenizer =  MeCab.Tagger(\"-Owakati\")  \n",
    "text_list = []\n",
    "for review in tqdm(df[\"news\"]):\n",
    "    \n",
    "    try:\n",
    "        # Split a review into parsed sentences.\n",
    "        result = tokenizer.parse(review).replace(\"\\u3000\",\"\").replace(\"\\n\",\"\")\n",
    "        result = re.sub(r'[0123456789０１２３４５６７８９！＠＃＄％＾＆\\-|\\\\＊\\“（）＿■×※⇒—●(：〜＋=)／*&^%$#@!~`){}…\\[\\]\\\"\\'\\”:;<>?＜＞？、。・,./『』【】「」→←○]+', \"\", result)\n",
    "        h = result.split(\" \")\n",
    "        h = list(filter((\"\").__ne__, h))\n",
    "        text_list.append(h)\n",
    "    except:\n",
    "        continue"
   ]
  },
  {
   "cell_type": "markdown",
   "id": "4b2315e1",
   "metadata": {},
   "source": [
    "## step3. embedding"
   ]
  },
  {
   "cell_type": "markdown",
   "id": "6f5fcf4f",
   "metadata": {},
   "source": [
    "3-1.bag-of-word"
   ]
  },
  {
   "cell_type": "markdown",
   "id": "ddb3d0db",
   "metadata": {},
   "source": [
    "3-2.tf-idf"
   ]
  },
  {
   "cell_type": "code",
   "execution_count": 46,
   "id": "86ecf4ed",
   "metadata": {},
   "outputs": [],
   "source": [
    "train_df, test_df = train_test_split(df, test_size=0.3, random_state=1011)"
   ]
  },
  {
   "cell_type": "code",
   "execution_count": 47,
   "id": "03ac57df",
   "metadata": {},
   "outputs": [],
   "source": [
    "vectorizer = TfidfVectorizer(use_idf=True, token_pattern=u'(?u)\\\\b\\\\w+\\\\b',max_features=100)\n",
    "X = vectorizer.fit_transform(train_df.news.values)\n",
    "X = X.toarray()"
   ]
  },
  {
   "cell_type": "code",
   "execution_count": 48,
   "id": "e8f51f6b",
   "metadata": {},
   "outputs": [
    {
     "data": {
      "text/plain": [
       "(2100, 100)"
      ]
     },
     "execution_count": 48,
     "metadata": {},
     "output_type": "execute_result"
    }
   ],
   "source": [
    "X.shape"
   ]
  },
  {
   "cell_type": "markdown",
   "id": "ac3a4ebc",
   "metadata": {},
   "source": [
    "## step4. training"
   ]
  },
  {
   "cell_type": "code",
   "execution_count": 49,
   "id": "25aebe01",
   "metadata": {
    "scrolled": false
   },
   "outputs": [
    {
     "name": "stdout",
     "output_type": "stream",
     "text": [
      "Start: fold 1\n",
      "Training until validation scores don't improve for 2000 rounds\n",
      "[100]\tvalid_0's multi_logloss: 0.431934\n",
      "[200]\tvalid_0's multi_logloss: 0.484479\n",
      "[300]\tvalid_0's multi_logloss: 0.497334\n",
      "[400]\tvalid_0's multi_logloss: 0.504869\n",
      "[500]\tvalid_0's multi_logloss: 0.511152\n",
      "[600]\tvalid_0's multi_logloss: 0.518057\n",
      "[700]\tvalid_0's multi_logloss: 0.520183\n",
      "[800]\tvalid_0's multi_logloss: 0.5223\n",
      "[900]\tvalid_0's multi_logloss: 0.524642\n",
      "[1000]\tvalid_0's multi_logloss: 0.528015\n",
      "[1100]\tvalid_0's multi_logloss: 0.532225\n",
      "[1200]\tvalid_0's multi_logloss: 0.534507\n",
      "[1300]\tvalid_0's multi_logloss: 0.536036\n",
      "[1400]\tvalid_0's multi_logloss: 0.538532\n",
      "[1500]\tvalid_0's multi_logloss: 0.539447\n",
      "[1600]\tvalid_0's multi_logloss: 0.540577\n",
      "[1700]\tvalid_0's multi_logloss: 0.542116\n",
      "[1800]\tvalid_0's multi_logloss: 0.544422\n",
      "[1900]\tvalid_0's multi_logloss: 0.545128\n",
      "[2000]\tvalid_0's multi_logloss: 0.546538\n",
      "Early stopping, best iteration is:\n",
      "[42]\tvalid_0's multi_logloss: 0.362861\n",
      "----------------------------\n",
      "Accuracy  : 0.8690476190476191\n",
      "F1-macro  : 0.8603344503406052\n",
      "recall    : 0.8535863286264442\n",
      "precision : 0.873399534179319\n",
      "----------------------------\n",
      "Start: fold 2\n",
      "Training until validation scores don't improve for 2000 rounds\n",
      "[100]\tvalid_0's multi_logloss: 0.533308\n",
      "[200]\tvalid_0's multi_logloss: 0.640125\n",
      "[300]\tvalid_0's multi_logloss: 0.69283\n",
      "[400]\tvalid_0's multi_logloss: 0.710999\n",
      "[500]\tvalid_0's multi_logloss: 0.725793\n",
      "[600]\tvalid_0's multi_logloss: 0.731831\n",
      "[700]\tvalid_0's multi_logloss: 0.738247\n",
      "[800]\tvalid_0's multi_logloss: 0.74489\n",
      "[900]\tvalid_0's multi_logloss: 0.748908\n",
      "[1000]\tvalid_0's multi_logloss: 0.754436\n",
      "[1100]\tvalid_0's multi_logloss: 0.759233\n",
      "[1200]\tvalid_0's multi_logloss: 0.765018\n",
      "[1300]\tvalid_0's multi_logloss: 0.7684\n",
      "[1400]\tvalid_0's multi_logloss: 0.770414\n",
      "[1500]\tvalid_0's multi_logloss: 0.772154\n",
      "[1600]\tvalid_0's multi_logloss: 0.775146\n",
      "[1700]\tvalid_0's multi_logloss: 0.779244\n",
      "[1800]\tvalid_0's multi_logloss: 0.783714\n",
      "[1900]\tvalid_0's multi_logloss: 0.78638\n",
      "[2000]\tvalid_0's multi_logloss: 0.788139\n",
      "Early stopping, best iteration is:\n",
      "[40]\tvalid_0's multi_logloss: 0.438167\n",
      "----------------------------\n",
      "Accuracy  : 0.8452380952380952\n",
      "F1-macro  : 0.8295237713350483\n",
      "recall    : 0.8262085915235182\n",
      "precision : 0.835154648065761\n",
      "----------------------------\n",
      "Start: fold 3\n",
      "Training until validation scores don't improve for 2000 rounds\n",
      "[100]\tvalid_0's multi_logloss: 0.510268\n",
      "[200]\tvalid_0's multi_logloss: 0.607964\n",
      "[300]\tvalid_0's multi_logloss: 0.641684\n",
      "[400]\tvalid_0's multi_logloss: 0.66297\n",
      "[500]\tvalid_0's multi_logloss: 0.676476\n",
      "[600]\tvalid_0's multi_logloss: 0.690095\n",
      "[700]\tvalid_0's multi_logloss: 0.695093\n",
      "[800]\tvalid_0's multi_logloss: 0.699929\n",
      "[900]\tvalid_0's multi_logloss: 0.703619\n",
      "[1000]\tvalid_0's multi_logloss: 0.7103\n",
      "[1100]\tvalid_0's multi_logloss: 0.714452\n",
      "[1200]\tvalid_0's multi_logloss: 0.715969\n",
      "[1300]\tvalid_0's multi_logloss: 0.721262\n",
      "[1400]\tvalid_0's multi_logloss: 0.724302\n",
      "[1500]\tvalid_0's multi_logloss: 0.728483\n",
      "[1600]\tvalid_0's multi_logloss: 0.732294\n",
      "[1700]\tvalid_0's multi_logloss: 0.73401\n",
      "[1800]\tvalid_0's multi_logloss: 0.736371\n",
      "[1900]\tvalid_0's multi_logloss: 0.738058\n",
      "[2000]\tvalid_0's multi_logloss: 0.740689\n",
      "Early stopping, best iteration is:\n",
      "[49]\tvalid_0's multi_logloss: 0.460059\n",
      "----------------------------\n",
      "Accuracy  : 0.8119047619047619\n",
      "F1-macro  : 0.7941732501269909\n",
      "recall    : 0.7856673547776772\n",
      "precision : 0.8120834200124818\n",
      "----------------------------\n",
      "Start: fold 4\n",
      "Training until validation scores don't improve for 2000 rounds\n",
      "[100]\tvalid_0's multi_logloss: 0.45536\n",
      "[200]\tvalid_0's multi_logloss: 0.543897\n",
      "[300]\tvalid_0's multi_logloss: 0.578192\n",
      "[400]\tvalid_0's multi_logloss: 0.591923\n",
      "[500]\tvalid_0's multi_logloss: 0.599726\n",
      "[600]\tvalid_0's multi_logloss: 0.610555\n",
      "[700]\tvalid_0's multi_logloss: 0.624748\n",
      "[800]\tvalid_0's multi_logloss: 0.631463\n",
      "[900]\tvalid_0's multi_logloss: 0.637715\n",
      "[1000]\tvalid_0's multi_logloss: 0.643499\n",
      "[1100]\tvalid_0's multi_logloss: 0.648754\n",
      "[1200]\tvalid_0's multi_logloss: 0.656624\n",
      "[1300]\tvalid_0's multi_logloss: 0.662541\n",
      "[1400]\tvalid_0's multi_logloss: 0.666851\n",
      "[1500]\tvalid_0's multi_logloss: 0.669723\n",
      "[1600]\tvalid_0's multi_logloss: 0.672843\n",
      "[1700]\tvalid_0's multi_logloss: 0.677381\n",
      "[1800]\tvalid_0's multi_logloss: 0.679355\n",
      "[1900]\tvalid_0's multi_logloss: 0.68397\n",
      "[2000]\tvalid_0's multi_logloss: 0.684642\n",
      "Early stopping, best iteration is:\n",
      "[43]\tvalid_0's multi_logloss: 0.418194\n",
      "----------------------------\n",
      "Accuracy  : 0.8404761904761905\n",
      "F1-macro  : 0.8282568424591539\n",
      "recall    : 0.8216667107968172\n",
      "precision : 0.8432046492320464\n",
      "----------------------------\n",
      "Start: fold 5\n",
      "Training until validation scores don't improve for 2000 rounds\n",
      "[100]\tvalid_0's multi_logloss: 0.565873\n",
      "[200]\tvalid_0's multi_logloss: 0.6492\n",
      "[300]\tvalid_0's multi_logloss: 0.69161\n",
      "[400]\tvalid_0's multi_logloss: 0.724962\n",
      "[500]\tvalid_0's multi_logloss: 0.744184\n",
      "[600]\tvalid_0's multi_logloss: 0.757708\n",
      "[700]\tvalid_0's multi_logloss: 0.765742\n",
      "[800]\tvalid_0's multi_logloss: 0.770213\n",
      "[900]\tvalid_0's multi_logloss: 0.772871\n",
      "[1000]\tvalid_0's multi_logloss: 0.777617\n",
      "[1100]\tvalid_0's multi_logloss: 0.780073\n",
      "[1200]\tvalid_0's multi_logloss: 0.782337\n",
      "[1300]\tvalid_0's multi_logloss: 0.785481\n",
      "[1400]\tvalid_0's multi_logloss: 0.78641\n",
      "[1500]\tvalid_0's multi_logloss: 0.787454\n",
      "[1600]\tvalid_0's multi_logloss: 0.78852\n",
      "[1700]\tvalid_0's multi_logloss: 0.790118\n",
      "[1800]\tvalid_0's multi_logloss: 0.791259\n",
      "[1900]\tvalid_0's multi_logloss: 0.791882\n",
      "[2000]\tvalid_0's multi_logloss: 0.793893\n",
      "Early stopping, best iteration is:\n",
      "[34]\tvalid_0's multi_logloss: 0.469796\n",
      "----------------------------\n",
      "Accuracy  : 0.7976190476190477\n",
      "F1-macro  : 0.7935947058307223\n",
      "recall    : 0.7874415650685104\n",
      "precision : 0.8016591485386361\n",
      "----------------------------\n",
      "Elapsed time is 11.978381633758545.\n"
     ]
    }
   ],
   "source": [
    "y = train_df.label.values\n",
    "\n",
    "accs_dict = {}\n",
    "elapsed_times_dict = {}\n",
    "\n",
    "START_TIME = time.time()\n",
    "skf = StratifiedKFold(n_splits=5, shuffle=True, random_state=0)\n",
    "\n",
    "f1macro_list = []\n",
    "models = []\n",
    "\n",
    "params = {\n",
    "    'objective': 'multiclass',\n",
    "    'num_class': df.label.nunique(),\n",
    "    'n_estimators': 10000,\n",
    "    'random_seed': 0\n",
    "}\n",
    "\n",
    "for i, (train_index, valid_index) in enumerate(skf.split(X, y)):\n",
    "    \n",
    "    print(f'Start: fold {i+1}')\n",
    "    X_train, y_train = X[train_index, :], y[train_index]\n",
    "    X_valid, y_valid = X[valid_index, :], y[valid_index]\n",
    "    \n",
    "    model = lgb.LGBMClassifier(**params)\n",
    "    model.fit(\n",
    "        X_train,\n",
    "        y_train,\n",
    "        eval_set=(X_valid, y_valid),\n",
    "        early_stopping_rounds=2000,\n",
    "        verbose=100\n",
    "    )\n",
    "    \n",
    "    models.append(model)\n",
    "    \n",
    "    #inference\n",
    "    y_pred = model.predict(X_valid)\n",
    "    \n",
    "    #score\n",
    "    accuracy = accuracy_score(y_valid, y_pred)\n",
    "    f1macro = f1_score(y_valid, y_pred, average='macro')\n",
    "    recall = recall_score(y_valid, y_pred, average='macro')\n",
    "    precision = precision_score(y_valid, y_pred, average='macro')\n",
    "    \n",
    "    f1macro_list.append(f1macro)\n",
    "    \n",
    "    print('----------------------------')\n",
    "    print(f'Accuracy  : {accuracy}')\n",
    "    print(f'F1-macro  : {f1macro}')\n",
    "    print(f'recall    : {recall}')\n",
    "    print(f'precision : {precision}')\n",
    "    print('----------------------------')\n",
    "\n",
    "elapsed_time = time.time() - START_TIME\n",
    "print(f'Elapsed time is {elapsed_time}.')"
   ]
  },
  {
   "cell_type": "markdown",
   "id": "f9a8c11d",
   "metadata": {},
   "source": [
    "## step5. test"
   ]
  },
  {
   "cell_type": "code",
   "execution_count": 43,
   "id": "3bfd6846",
   "metadata": {},
   "outputs": [
    {
     "name": "stdout",
     "output_type": "stream",
     "text": [
      "----------------------------\n",
      "model No.0\n",
      "Accuracy  : 0.6222222222222222\n",
      "F1-macro  : 0.5907510561317408\n",
      "recall    : 0.5817493900383518\n",
      "precision : 0.6225158707114151\n",
      "----------------------------\n",
      "----------------------------\n",
      "model No.1\n",
      "Accuracy  : 0.6133333333333333\n",
      "F1-macro  : 0.5830891326655759\n",
      "recall    : 0.5727536253084072\n",
      "precision : 0.6193162045918249\n",
      "----------------------------\n",
      "----------------------------\n",
      "model No.2\n",
      "Accuracy  : 0.6455555555555555\n",
      "F1-macro  : 0.6178328704204501\n",
      "recall    : 0.6085748536342434\n",
      "precision : 0.6559593564762994\n",
      "----------------------------\n",
      "----------------------------\n",
      "model No.3\n",
      "Accuracy  : 0.6366666666666667\n",
      "F1-macro  : 0.6042497338682051\n",
      "recall    : 0.5943623914133846\n",
      "precision : 0.6417804040143322\n",
      "----------------------------\n",
      "----------------------------\n",
      "model No.4\n",
      "Accuracy  : 0.6088888888888889\n",
      "F1-macro  : 0.5842878323205771\n",
      "recall    : 0.5782797842750741\n",
      "precision : 0.6120747226126307\n",
      "----------------------------\n"
     ]
    }
   ],
   "source": [
    "vectorizer = TfidfVectorizer(use_idf=True, token_pattern=u'(?u)\\\\b\\\\w+\\\\b',max_features=100)\n",
    "X = vectorizer.fit_transform(test_df.news.values)\n",
    "X = X.toarray()\n",
    "y_true = test_df.label.values\n",
    "\n",
    "accs_dict = {}\n",
    "elapsed_times_dict = {}\n",
    "\n",
    "START_TIME = time.time()\n",
    "skf = StratifiedKFold(n_splits=5, shuffle=True, random_state=0)\n",
    "\n",
    "f1macro_list = []\n",
    "\n",
    "pred_list = []\n",
    "for no, model in enumerate(models):\n",
    "    \n",
    "    y_pred = model.predict(X)\n",
    "    pred_list.append(y_pred)\n",
    "    \n",
    "    #score\n",
    "    accuracy = accuracy_score(y_true, y_pred)\n",
    "    f1macro = f1_score(y_true, y_pred, average='macro')\n",
    "    recall = recall_score(y_true, y_pred, average='macro')\n",
    "    precision = precision_score(y_true, y_pred, average='macro')\n",
    "    \n",
    "    print('----------------------------')\n",
    "    print('model No.%d' % no )\n",
    "    print(f'Accuracy  : {accuracy}')\n",
    "    print(f'F1-macro  : {f1macro}')\n",
    "    print(f'recall    : {recall}')\n",
    "    print(f'precision : {precision}')\n",
    "    print('----------------------------')"
   ]
  },
  {
   "cell_type": "code",
   "execution_count": 31,
   "id": "2b07bbac",
   "metadata": {},
   "outputs": [
    {
     "data": {
      "text/plain": [
       "array(['dokujo-tsushin', 'it-life-hack', 'it-life-hack', 'it-life-hack',\n",
       "       'it-life-hack', 'kaden-channel', 'kaden-channel', 'it-life-hack',\n",
       "       'kaden-channel', 'it-life-hack', 'it-life-hack', 'dokujo-tsushin',\n",
       "       'dokujo-tsushin', 'dokujo-tsushin', 'dokujo-tsushin',\n",
       "       'livedoor-homme', 'kaden-channel', 'it-life-hack', 'kaden-channel',\n",
       "       'kaden-channel', 'dokujo-tsushin', 'it-life-hack',\n",
       "       'dokujo-tsushin', 'kaden-channel', 'dokujo-tsushin',\n",
       "       'it-life-hack', 'dokujo-tsushin', 'kaden-channel', 'it-life-hack',\n",
       "       'dokujo-tsushin', 'livedoor-homme', 'it-life-hack', 'it-life-hack',\n",
       "       'dokujo-tsushin', 'kaden-channel', 'dokujo-tsushin',\n",
       "       'dokujo-tsushin', 'it-life-hack', 'kaden-channel', 'it-life-hack',\n",
       "       'kaden-channel', 'kaden-channel', 'kaden-channel', 'it-life-hack',\n",
       "       'it-life-hack', 'it-life-hack', 'dokujo-tsushin', 'it-life-hack',\n",
       "       'it-life-hack', 'it-life-hack', 'livedoor-homme', 'kaden-channel',\n",
       "       'it-life-hack', 'it-life-hack', 'dokujo-tsushin', 'dokujo-tsushin',\n",
       "       'it-life-hack', 'dokujo-tsushin', 'dokujo-tsushin', 'it-life-hack',\n",
       "       'it-life-hack', 'it-life-hack', 'kaden-channel', 'dokujo-tsushin',\n",
       "       'it-life-hack', 'it-life-hack', 'dokujo-tsushin', 'it-life-hack',\n",
       "       'kaden-channel', 'it-life-hack', 'it-life-hack', 'it-life-hack',\n",
       "       'kaden-channel', 'dokujo-tsushin', 'kaden-channel',\n",
       "       'dokujo-tsushin', 'kaden-channel', 'dokujo-tsushin',\n",
       "       'kaden-channel', 'dokujo-tsushin', 'dokujo-tsushin',\n",
       "       'dokujo-tsushin', 'it-life-hack', 'it-life-hack', 'kaden-channel',\n",
       "       'kaden-channel', 'livedoor-homme', 'it-life-hack',\n",
       "       'dokujo-tsushin', 'dokujo-tsushin', 'kaden-channel',\n",
       "       'it-life-hack', 'livedoor-homme', 'dokujo-tsushin',\n",
       "       'dokujo-tsushin', 'it-life-hack', 'kaden-channel', 'it-life-hack',\n",
       "       'kaden-channel', 'dokujo-tsushin', 'dokujo-tsushin',\n",
       "       'it-life-hack', 'it-life-hack', 'kaden-channel', 'dokujo-tsushin',\n",
       "       'kaden-channel', 'kaden-channel', 'it-life-hack', 'livedoor-homme',\n",
       "       'kaden-channel', 'kaden-channel', 'it-life-hack', 'dokujo-tsushin',\n",
       "       'it-life-hack', 'it-life-hack', 'it-life-hack', 'it-life-hack',\n",
       "       'it-life-hack', 'it-life-hack', 'kaden-channel', 'dokujo-tsushin',\n",
       "       'it-life-hack', 'it-life-hack', 'it-life-hack', 'dokujo-tsushin',\n",
       "       'kaden-channel', 'it-life-hack', 'it-life-hack', 'dokujo-tsushin',\n",
       "       'dokujo-tsushin', 'it-life-hack', 'livedoor-homme',\n",
       "       'dokujo-tsushin', 'it-life-hack', 'dokujo-tsushin',\n",
       "       'livedoor-homme', 'dokujo-tsushin', 'it-life-hack', 'it-life-hack',\n",
       "       'it-life-hack', 'it-life-hack', 'dokujo-tsushin', 'dokujo-tsushin',\n",
       "       'it-life-hack', 'kaden-channel', 'dokujo-tsushin', 'kaden-channel',\n",
       "       'dokujo-tsushin', 'it-life-hack', 'it-life-hack', 'it-life-hack',\n",
       "       'it-life-hack', 'kaden-channel', 'dokujo-tsushin', 'it-life-hack',\n",
       "       'dokujo-tsushin', 'kaden-channel', 'it-life-hack', 'kaden-channel',\n",
       "       'kaden-channel', 'dokujo-tsushin', 'dokujo-tsushin',\n",
       "       'it-life-hack', 'kaden-channel', 'it-life-hack', 'kaden-channel',\n",
       "       'kaden-channel', 'livedoor-homme', 'dokujo-tsushin',\n",
       "       'it-life-hack', 'dokujo-tsushin', 'livedoor-homme',\n",
       "       'dokujo-tsushin', 'it-life-hack', 'dokujo-tsushin',\n",
       "       'kaden-channel', 'kaden-channel', 'it-life-hack', 'dokujo-tsushin',\n",
       "       'dokujo-tsushin', 'it-life-hack', 'kaden-channel',\n",
       "       'dokujo-tsushin', 'dokujo-tsushin', 'livedoor-homme',\n",
       "       'kaden-channel', 'it-life-hack', 'kaden-channel', 'it-life-hack',\n",
       "       'it-life-hack', 'dokujo-tsushin', 'dokujo-tsushin',\n",
       "       'kaden-channel', 'livedoor-homme', 'it-life-hack', 'it-life-hack',\n",
       "       'it-life-hack', 'dokujo-tsushin', 'dokujo-tsushin',\n",
       "       'kaden-channel', 'kaden-channel', 'kaden-channel',\n",
       "       'dokujo-tsushin', 'livedoor-homme', 'dokujo-tsushin',\n",
       "       'it-life-hack', 'kaden-channel', 'it-life-hack', 'it-life-hack',\n",
       "       'kaden-channel', 'it-life-hack', 'kaden-channel', 'dokujo-tsushin',\n",
       "       'it-life-hack', 'livedoor-homme', 'it-life-hack', 'kaden-channel',\n",
       "       'it-life-hack', 'dokujo-tsushin', 'dokujo-tsushin', 'it-life-hack',\n",
       "       'kaden-channel', 'it-life-hack', 'kaden-channel', 'it-life-hack',\n",
       "       'dokujo-tsushin', 'livedoor-homme', 'it-life-hack', 'it-life-hack',\n",
       "       'kaden-channel', 'dokujo-tsushin', 'it-life-hack', 'it-life-hack',\n",
       "       'it-life-hack', 'it-life-hack', 'kaden-channel', 'kaden-channel',\n",
       "       'it-life-hack', 'it-life-hack', 'dokujo-tsushin', 'kaden-channel',\n",
       "       'dokujo-tsushin', 'dokujo-tsushin', 'it-life-hack',\n",
       "       'livedoor-homme', 'dokujo-tsushin', 'kaden-channel',\n",
       "       'it-life-hack', 'kaden-channel', 'dokujo-tsushin', 'it-life-hack',\n",
       "       'it-life-hack', 'kaden-channel', 'it-life-hack', 'kaden-channel',\n",
       "       'it-life-hack', 'it-life-hack', 'kaden-channel', 'it-life-hack',\n",
       "       'it-life-hack', 'it-life-hack', 'dokujo-tsushin', 'it-life-hack',\n",
       "       'it-life-hack', 'dokujo-tsushin', 'dokujo-tsushin',\n",
       "       'kaden-channel', 'it-life-hack', 'it-life-hack', 'livedoor-homme',\n",
       "       'it-life-hack', 'dokujo-tsushin', 'dokujo-tsushin', 'it-life-hack',\n",
       "       'it-life-hack', 'dokujo-tsushin', 'it-life-hack', 'kaden-channel',\n",
       "       'it-life-hack', 'it-life-hack', 'livedoor-homme', 'kaden-channel',\n",
       "       'livedoor-homme', 'it-life-hack', 'livedoor-homme', 'it-life-hack',\n",
       "       'kaden-channel', 'kaden-channel', 'it-life-hack', 'kaden-channel',\n",
       "       'it-life-hack', 'dokujo-tsushin', 'it-life-hack', 'dokujo-tsushin',\n",
       "       'dokujo-tsushin', 'dokujo-tsushin', 'it-life-hack', 'it-life-hack',\n",
       "       'kaden-channel', 'it-life-hack', 'kaden-channel', 'kaden-channel',\n",
       "       'dokujo-tsushin', 'dokujo-tsushin', 'it-life-hack',\n",
       "       'dokujo-tsushin', 'it-life-hack', 'dokujo-tsushin', 'it-life-hack',\n",
       "       'dokujo-tsushin', 'kaden-channel', 'kaden-channel', 'it-life-hack',\n",
       "       'kaden-channel', 'dokujo-tsushin', 'dokujo-tsushin',\n",
       "       'it-life-hack', 'dokujo-tsushin', 'kaden-channel', 'it-life-hack',\n",
       "       'dokujo-tsushin', 'kaden-channel', 'kaden-channel',\n",
       "       'dokujo-tsushin', 'it-life-hack', 'kaden-channel', 'it-life-hack',\n",
       "       'it-life-hack', 'kaden-channel', 'it-life-hack', 'livedoor-homme',\n",
       "       'dokujo-tsushin', 'kaden-channel', 'it-life-hack', 'it-life-hack',\n",
       "       'kaden-channel', 'it-life-hack', 'it-life-hack', 'kaden-channel',\n",
       "       'dokujo-tsushin', 'it-life-hack', 'kaden-channel', 'kaden-channel',\n",
       "       'dokujo-tsushin', 'kaden-channel', 'it-life-hack', 'kaden-channel',\n",
       "       'it-life-hack', 'it-life-hack', 'it-life-hack', 'it-life-hack',\n",
       "       'it-life-hack', 'livedoor-homme', 'it-life-hack', 'dokujo-tsushin',\n",
       "       'dokujo-tsushin', 'it-life-hack', 'it-life-hack', 'it-life-hack',\n",
       "       'it-life-hack', 'it-life-hack', 'it-life-hack', 'dokujo-tsushin',\n",
       "       'kaden-channel', 'dokujo-tsushin', 'it-life-hack', 'kaden-channel',\n",
       "       'dokujo-tsushin', 'it-life-hack', 'it-life-hack', 'it-life-hack',\n",
       "       'it-life-hack', 'it-life-hack', 'it-life-hack', 'dokujo-tsushin',\n",
       "       'kaden-channel', 'it-life-hack', 'dokujo-tsushin',\n",
       "       'livedoor-homme', 'it-life-hack', 'it-life-hack', 'it-life-hack',\n",
       "       'it-life-hack', 'it-life-hack', 'kaden-channel', 'kaden-channel',\n",
       "       'kaden-channel', 'dokujo-tsushin', 'dokujo-tsushin',\n",
       "       'kaden-channel', 'livedoor-homme', 'dokujo-tsushin',\n",
       "       'dokujo-tsushin', 'it-life-hack', 'it-life-hack', 'livedoor-homme',\n",
       "       'it-life-hack', 'it-life-hack', 'dokujo-tsushin', 'it-life-hack',\n",
       "       'kaden-channel', 'dokujo-tsushin', 'kaden-channel',\n",
       "       'dokujo-tsushin', 'kaden-channel', 'dokujo-tsushin',\n",
       "       'kaden-channel', 'kaden-channel', 'kaden-channel', 'kaden-channel',\n",
       "       'it-life-hack', 'livedoor-homme', 'dokujo-tsushin',\n",
       "       'dokujo-tsushin', 'it-life-hack', 'kaden-channel',\n",
       "       'dokujo-tsushin', 'kaden-channel', 'it-life-hack', 'it-life-hack',\n",
       "       'kaden-channel', 'kaden-channel', 'kaden-channel', 'it-life-hack',\n",
       "       'kaden-channel', 'it-life-hack', 'kaden-channel', 'it-life-hack',\n",
       "       'kaden-channel', 'dokujo-tsushin', 'kaden-channel', 'it-life-hack',\n",
       "       'dokujo-tsushin', 'it-life-hack', 'livedoor-homme',\n",
       "       'kaden-channel', 'kaden-channel', 'dokujo-tsushin', 'it-life-hack',\n",
       "       'dokujo-tsushin', 'kaden-channel', 'kaden-channel', 'it-life-hack',\n",
       "       'dokujo-tsushin', 'dokujo-tsushin', 'it-life-hack',\n",
       "       'kaden-channel', 'it-life-hack', 'it-life-hack', 'it-life-hack',\n",
       "       'livedoor-homme', 'dokujo-tsushin', 'kaden-channel',\n",
       "       'dokujo-tsushin', 'dokujo-tsushin', 'kaden-channel',\n",
       "       'dokujo-tsushin', 'it-life-hack', 'dokujo-tsushin',\n",
       "       'kaden-channel', 'kaden-channel', 'dokujo-tsushin',\n",
       "       'kaden-channel', 'kaden-channel', 'kaden-channel', 'it-life-hack',\n",
       "       'it-life-hack', 'dokujo-tsushin', 'kaden-channel',\n",
       "       'dokujo-tsushin', 'kaden-channel', 'dokujo-tsushin',\n",
       "       'it-life-hack', 'kaden-channel', 'it-life-hack', 'dokujo-tsushin',\n",
       "       'dokujo-tsushin', 'kaden-channel', 'it-life-hack', 'kaden-channel',\n",
       "       'dokujo-tsushin', 'dokujo-tsushin', 'dokujo-tsushin',\n",
       "       'kaden-channel', 'dokujo-tsushin', 'livedoor-homme',\n",
       "       'dokujo-tsushin', 'livedoor-homme', 'kaden-channel',\n",
       "       'kaden-channel', 'dokujo-tsushin', 'it-life-hack', 'it-life-hack',\n",
       "       'dokujo-tsushin', 'it-life-hack', 'kaden-channel', 'it-life-hack',\n",
       "       'kaden-channel', 'it-life-hack', 'dokujo-tsushin', 'it-life-hack',\n",
       "       'it-life-hack', 'kaden-channel', 'it-life-hack', 'it-life-hack',\n",
       "       'kaden-channel', 'kaden-channel', 'dokujo-tsushin', 'it-life-hack',\n",
       "       'dokujo-tsushin', 'livedoor-homme', 'dokujo-tsushin',\n",
       "       'it-life-hack', 'kaden-channel', 'dokujo-tsushin',\n",
       "       'dokujo-tsushin', 'kaden-channel', 'it-life-hack', 'kaden-channel',\n",
       "       'it-life-hack', 'kaden-channel', 'dokujo-tsushin', 'kaden-channel',\n",
       "       'it-life-hack', 'dokujo-tsushin', 'dokujo-tsushin',\n",
       "       'kaden-channel', 'kaden-channel', 'kaden-channel', 'kaden-channel',\n",
       "       'livedoor-homme', 'it-life-hack', 'kaden-channel',\n",
       "       'livedoor-homme', 'it-life-hack', 'it-life-hack', 'kaden-channel',\n",
       "       'it-life-hack', 'kaden-channel', 'it-life-hack', 'dokujo-tsushin',\n",
       "       'kaden-channel', 'kaden-channel', 'it-life-hack', 'it-life-hack',\n",
       "       'it-life-hack', 'dokujo-tsushin', 'it-life-hack', 'it-life-hack',\n",
       "       'kaden-channel', 'it-life-hack', 'it-life-hack', 'dokujo-tsushin',\n",
       "       'dokujo-tsushin', 'dokujo-tsushin', 'it-life-hack', 'it-life-hack',\n",
       "       'livedoor-homme', 'kaden-channel', 'livedoor-homme',\n",
       "       'kaden-channel', 'it-life-hack', 'it-life-hack', 'dokujo-tsushin',\n",
       "       'dokujo-tsushin', 'it-life-hack', 'it-life-hack', 'it-life-hack',\n",
       "       'it-life-hack', 'livedoor-homme', 'kaden-channel', 'it-life-hack',\n",
       "       'kaden-channel', 'dokujo-tsushin', 'livedoor-homme',\n",
       "       'dokujo-tsushin', 'kaden-channel', 'dokujo-tsushin',\n",
       "       'it-life-hack', 'kaden-channel', 'it-life-hack', 'dokujo-tsushin',\n",
       "       'kaden-channel', 'it-life-hack', 'kaden-channel', 'dokujo-tsushin',\n",
       "       'it-life-hack', 'it-life-hack', 'kaden-channel', 'it-life-hack',\n",
       "       'dokujo-tsushin', 'it-life-hack', 'dokujo-tsushin',\n",
       "       'kaden-channel', 'dokujo-tsushin', 'kaden-channel', 'it-life-hack',\n",
       "       'kaden-channel', 'kaden-channel', 'kaden-channel', 'it-life-hack',\n",
       "       'dokujo-tsushin', 'livedoor-homme', 'it-life-hack', 'it-life-hack',\n",
       "       'dokujo-tsushin', 'dokujo-tsushin', 'dokujo-tsushin',\n",
       "       'kaden-channel', 'kaden-channel', 'dokujo-tsushin',\n",
       "       'dokujo-tsushin', 'livedoor-homme', 'dokujo-tsushin',\n",
       "       'it-life-hack', 'it-life-hack', 'it-life-hack', 'it-life-hack',\n",
       "       'it-life-hack', 'livedoor-homme', 'kaden-channel', 'kaden-channel',\n",
       "       'it-life-hack', 'it-life-hack', 'dokujo-tsushin', 'livedoor-homme',\n",
       "       'kaden-channel', 'it-life-hack', 'kaden-channel', 'it-life-hack',\n",
       "       'kaden-channel', 'kaden-channel', 'kaden-channel',\n",
       "       'dokujo-tsushin', 'dokujo-tsushin', 'kaden-channel',\n",
       "       'dokujo-tsushin', 'kaden-channel', 'dokujo-tsushin',\n",
       "       'it-life-hack', 'it-life-hack', 'it-life-hack', 'kaden-channel',\n",
       "       'it-life-hack', 'kaden-channel', 'it-life-hack', 'dokujo-tsushin',\n",
       "       'it-life-hack', 'it-life-hack', 'it-life-hack', 'it-life-hack',\n",
       "       'it-life-hack', 'it-life-hack', 'dokujo-tsushin', 'kaden-channel',\n",
       "       'it-life-hack', 'it-life-hack', 'kaden-channel', 'it-life-hack',\n",
       "       'kaden-channel', 'kaden-channel', 'it-life-hack', 'kaden-channel',\n",
       "       'dokujo-tsushin', 'livedoor-homme', 'it-life-hack', 'it-life-hack',\n",
       "       'it-life-hack', 'it-life-hack', 'it-life-hack', 'kaden-channel',\n",
       "       'it-life-hack', 'kaden-channel', 'kaden-channel', 'kaden-channel',\n",
       "       'kaden-channel', 'kaden-channel', 'dokujo-tsushin',\n",
       "       'kaden-channel', 'dokujo-tsushin', 'kaden-channel',\n",
       "       'kaden-channel', 'kaden-channel', 'dokujo-tsushin',\n",
       "       'livedoor-homme', 'livedoor-homme', 'it-life-hack',\n",
       "       'kaden-channel', 'it-life-hack', 'it-life-hack', 'it-life-hack',\n",
       "       'it-life-hack', 'it-life-hack', 'kaden-channel', 'kaden-channel',\n",
       "       'it-life-hack', 'it-life-hack', 'it-life-hack', 'it-life-hack',\n",
       "       'it-life-hack', 'kaden-channel', 'it-life-hack', 'livedoor-homme',\n",
       "       'kaden-channel', 'kaden-channel', 'livedoor-homme',\n",
       "       'kaden-channel', 'livedoor-homme', 'dokujo-tsushin',\n",
       "       'it-life-hack', 'kaden-channel', 'it-life-hack', 'kaden-channel',\n",
       "       'it-life-hack', 'kaden-channel', 'it-life-hack', 'it-life-hack',\n",
       "       'dokujo-tsushin', 'it-life-hack', 'kaden-channel', 'it-life-hack',\n",
       "       'it-life-hack', 'it-life-hack', 'it-life-hack', 'kaden-channel',\n",
       "       'kaden-channel', 'kaden-channel', 'it-life-hack', 'it-life-hack',\n",
       "       'kaden-channel', 'dokujo-tsushin', 'dokujo-tsushin',\n",
       "       'livedoor-homme', 'dokujo-tsushin', 'livedoor-homme',\n",
       "       'dokujo-tsushin', 'it-life-hack', 'kaden-channel',\n",
       "       'livedoor-homme', 'kaden-channel', 'kaden-channel',\n",
       "       'kaden-channel', 'it-life-hack', 'kaden-channel', 'kaden-channel',\n",
       "       'it-life-hack', 'dokujo-tsushin', 'kaden-channel', 'it-life-hack',\n",
       "       'kaden-channel', 'it-life-hack', 'dokujo-tsushin',\n",
       "       'dokujo-tsushin', 'it-life-hack', 'livedoor-homme', 'it-life-hack',\n",
       "       'dokujo-tsushin', 'livedoor-homme', 'it-life-hack',\n",
       "       'livedoor-homme', 'it-life-hack', 'kaden-channel', 'kaden-channel',\n",
       "       'kaden-channel', 'it-life-hack', 'dokujo-tsushin', 'kaden-channel',\n",
       "       'dokujo-tsushin', 'kaden-channel', 'it-life-hack', 'it-life-hack',\n",
       "       'it-life-hack', 'kaden-channel', 'it-life-hack', 'it-life-hack',\n",
       "       'it-life-hack', 'livedoor-homme', 'livedoor-homme',\n",
       "       'kaden-channel', 'livedoor-homme', 'it-life-hack', 'it-life-hack',\n",
       "       'kaden-channel', 'it-life-hack', 'it-life-hack', 'it-life-hack',\n",
       "       'it-life-hack', 'it-life-hack', 'kaden-channel', 'kaden-channel',\n",
       "       'dokujo-tsushin', 'livedoor-homme', 'dokujo-tsushin',\n",
       "       'kaden-channel', 'livedoor-homme', 'kaden-channel', 'it-life-hack',\n",
       "       'it-life-hack', 'dokujo-tsushin', 'it-life-hack', 'kaden-channel',\n",
       "       'kaden-channel', 'livedoor-homme', 'kaden-channel', 'it-life-hack',\n",
       "       'livedoor-homme', 'it-life-hack', 'dokujo-tsushin', 'it-life-hack',\n",
       "       'kaden-channel', 'livedoor-homme', 'kaden-channel', 'it-life-hack',\n",
       "       'kaden-channel', 'dokujo-tsushin', 'kaden-channel',\n",
       "       'kaden-channel', 'kaden-channel', 'livedoor-homme',\n",
       "       'dokujo-tsushin', 'kaden-channel', 'livedoor-homme',\n",
       "       'dokujo-tsushin', 'it-life-hack', 'dokujo-tsushin',\n",
       "       'livedoor-homme', 'dokujo-tsushin', 'it-life-hack', 'it-life-hack',\n",
       "       'dokujo-tsushin', 'it-life-hack', 'kaden-channel', 'kaden-channel',\n",
       "       'kaden-channel', 'kaden-channel', 'kaden-channel', 'it-life-hack',\n",
       "       'livedoor-homme', 'it-life-hack', 'kaden-channel', 'it-life-hack',\n",
       "       'dokujo-tsushin', 'it-life-hack', 'it-life-hack', 'livedoor-homme',\n",
       "       'it-life-hack', 'it-life-hack', 'it-life-hack', 'kaden-channel',\n",
       "       'it-life-hack', 'it-life-hack', 'it-life-hack', 'it-life-hack',\n",
       "       'kaden-channel', 'it-life-hack', 'kaden-channel', 'kaden-channel',\n",
       "       'it-life-hack', 'dokujo-tsushin', 'dokujo-tsushin', 'it-life-hack',\n",
       "       'kaden-channel', 'it-life-hack', 'it-life-hack', 'it-life-hack',\n",
       "       'kaden-channel', 'it-life-hack', 'dokujo-tsushin', 'kaden-channel',\n",
       "       'kaden-channel', 'kaden-channel', 'it-life-hack', 'it-life-hack',\n",
       "       'it-life-hack', 'dokujo-tsushin', 'it-life-hack', 'it-life-hack',\n",
       "       'dokujo-tsushin', 'it-life-hack', 'kaden-channel',\n",
       "       'dokujo-tsushin', 'it-life-hack', 'kaden-channel',\n",
       "       'dokujo-tsushin', 'it-life-hack', 'it-life-hack', 'kaden-channel',\n",
       "       'it-life-hack', 'kaden-channel', 'kaden-channel', 'kaden-channel',\n",
       "       'it-life-hack', 'kaden-channel', 'it-life-hack', 'it-life-hack',\n",
       "       'kaden-channel', 'it-life-hack', 'it-life-hack', 'dokujo-tsushin',\n",
       "       'kaden-channel'], dtype=object)"
      ]
     },
     "execution_count": 31,
     "metadata": {},
     "output_type": "execute_result"
    }
   ],
   "source": [
    "pred_list[1]"
   ]
  },
  {
   "cell_type": "code",
   "execution_count": 16,
   "id": "15bff278",
   "metadata": {},
   "outputs": [],
   "source": [
    "## step6. evaluation"
   ]
  },
  {
   "cell_type": "code",
   "execution_count": null,
   "id": "9d8f7740",
   "metadata": {},
   "outputs": [],
   "source": [
    "\n",
    "for i, (train_index, valid_index) in enumerate(skf.split(X, y)):\n",
    "    \n",
    "    print(f'Start: fold {i+1}')\n",
    "    X_train, y_train = X[train_index, :], y[train_index]\n",
    "    X_valid, y_valid = X[valid_index, :], y[valid_index]\n",
    "    \n",
    "    model = lgb.LGBMClassifier(**params)\n",
    "    model.fit(\n",
    "        X_train,\n",
    "        y_train,\n",
    "        eval_set=(X_valid, y_valid),\n",
    "        early_stopping_rounds=2000,\n",
    "        verbose=100\n",
    "    )\n",
    "    \n",
    "    models.append(model)\n",
    "    \n",
    "    #inference\n",
    "    y_pred = model.predict(X_valid)\n",
    "    \n",
    "    #score\n",
    "    accuracy = accuracy_score(y_valid, y_pred)\n",
    "    f1macro = f1_score(y_valid, y_pred, average='macro')\n",
    "    recall = recall_score(y_valid, y_pred, average='macro')\n",
    "    precision = precision_score(y_valid, y_pred, average='macro')\n",
    "    \n",
    "    f1macro_list.append(f1macro)\n",
    "    \n",
    "    print('----------------------------')\n",
    "    print(f'Accuracy  : {accuracy}')\n",
    "    print(f'F1-macro  : {f1macro}')\n",
    "    print(f'recall    : {recall}')\n",
    "    print(f'precision : {precision}')\n",
    "    print('----------------------------')\n",
    "\n",
    "elapsed_time = time.time() - START_TIME\n",
    "print(f'Elapsed time is {elapsed_time}.')\n"
   ]
  }
 ],
 "metadata": {
  "kernelspec": {
   "display_name": "Python 3",
   "language": "python",
   "name": "python3"
  },
  "language_info": {
   "codemirror_mode": {
    "name": "ipython",
    "version": 3
   },
   "file_extension": ".py",
   "mimetype": "text/x-python",
   "name": "python",
   "nbconvert_exporter": "python",
   "pygments_lexer": "ipython3",
   "version": "3.8.8"
  }
 },
 "nbformat": 4,
 "nbformat_minor": 5
}
