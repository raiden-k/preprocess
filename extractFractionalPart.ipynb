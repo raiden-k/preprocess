{
 "cells": [
  {
   "cell_type": "code",
   "execution_count": 21,
   "id": "bb2b3ee5",
   "metadata": {},
   "outputs": [],
   "source": [
    "import pandas as pd\n",
    "df = pd.DataFrame([0.2, 1.5, 2.3],columns=['hoge'])"
   ]
  },
  {
   "cell_type": "code",
   "execution_count": 27,
   "id": "a6743732",
   "metadata": {},
   "outputs": [],
   "source": [
    "def extractFractionalPart(target_col):\n",
    "    '''\n",
    "    小数点を取得する抽出関数\n",
    "    input\n",
    "    '''\n",
    "    a = target_col.astype(int)\n",
    "    return target_col - a"
   ]
  }
 ],
 "metadata": {
  "kernelspec": {
   "display_name": "Python 3",
   "language": "python",
   "name": "python3"
  },
  "language_info": {
   "codemirror_mode": {
    "name": "ipython",
    "version": 3
   },
   "file_extension": ".py",
   "mimetype": "text/x-python",
   "name": "python",
   "nbconvert_exporter": "python",
   "pygments_lexer": "ipython3",
   "version": "3.8.8"
  }
 },
 "nbformat": 4,
 "nbformat_minor": 5
}
