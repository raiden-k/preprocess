{
 "cells": [
  {
   "cell_type": "markdown",
   "id": "38bec699",
   "metadata": {},
   "source": [
    "## 郵便番号を住所に変更するコード"
   ]
  },
  {
   "cell_type": "code",
   "execution_count": 41,
   "id": "a65ca502",
   "metadata": {},
   "outputs": [],
   "source": [
    "import pandas as pd\n",
    "import json\n",
    "import requests"
   ]
  },
  {
   "cell_type": "code",
   "execution_count": 42,
   "id": "405c934d",
   "metadata": {},
   "outputs": [],
   "source": [
    "#http://zipcloud.ibsnet.co.jp/doc/api"
   ]
  },
  {
   "cell_type": "code",
   "execution_count": 46,
   "id": "25db07c2",
   "metadata": {},
   "outputs": [],
   "source": [
    "df = pd.read_csv('./data/sample.csv', parse_dates=['date'])"
   ]
  },
  {
   "cell_type": "markdown",
   "id": "1ada375b",
   "metadata": {},
   "source": [
    "### 郵便番号"
   ]
  },
  {
   "cell_type": "code",
   "execution_count": 36,
   "id": "e316a891",
   "metadata": {},
   "outputs": [],
   "source": [
    "postcode = '2300051'\n",
    "REQUEST_URL = \"http://zipcloud.ibsnet.co.jp/api/search?zipcode={0}\".format(postcode)\n",
    "response = requests.get(REQUEST_URL)\n",
    "json_to_dic_result = json.loads(response.text)\n",
    "if json_to_dic_result[\"message\"] == None:\n",
    "    result_dic = json_to_dic_result[\"results\"][0]\n",
    "else:\n",
    "    print(\"Not found this postal code\")\n",
    "    sys.exit()"
   ]
  },
  {
   "cell_type": "code",
   "execution_count": 37,
   "id": "fe233ba8",
   "metadata": {},
   "outputs": [],
   "source": [
    "def postcode2addr(poscode):\n",
    "\n",
    "    REQUEST_URL = \"http://zipcloud.ibsnet.co.jp/api/search?zipcode={0}\".format(poscode)\n",
    "    response = requests.get(REQUEST_URL)\n",
    "    json_to_dic_result = json.loads(response.text)\n",
    "    if json_to_dic_result[\"message\"] == None:\n",
    "        if json_to_dic_result[\"results\"] == None:\n",
    "            result_dic = None\n",
    "            #print(poscode)\n",
    "        else:\n",
    "            result_dic = json_to_dic_result[\"results\"][0]\n",
    "    else:\n",
    "        pass\n",
    "        #print(\"Not found this postal code\")\n",
    "        #sys.exit()\n",
    "\n",
    "    return result_dic\n",
    "\n",
    "def getaddr(x, colname):\n",
    "    #print(x)\n",
    "    if x == None:\n",
    "        return None\n",
    "    else:\n",
    "        address = ''\n",
    "        for i in range(1,4):\n",
    "            address += x[colname + str(i)]            \n",
    "        return address\n",
    "\n",
    "def getpref(x, colname):\n",
    "    print(x)\n",
    "    if x == None:\n",
    "        return None\n",
    "    else:        \n",
    "        return x[colname]"
   ]
  },
  {
   "cell_type": "code",
   "execution_count": 40,
   "id": "566af037",
   "metadata": {},
   "outputs": [
    {
     "name": "stdout",
     "output_type": "stream",
     "text": [
      "{'address1': '千葉県', 'address2': '船橋市', 'address3': '咲が丘', 'kana1': 'ﾁﾊﾞｹﾝ', 'kana2': 'ﾌﾅﾊﾞｼｼ', 'kana3': 'ｻｷｶﾞｵｶ', 'prefcode': '12', 'zipcode': '2740807'}\n",
      "{'address1': '神奈川県', 'address2': '横浜市鶴見区', 'address3': '鶴見中央', 'kana1': 'ｶﾅｶﾞﾜｹﾝ', 'kana2': 'ﾖｺﾊﾏｼﾂﾙﾐｸ', 'kana3': 'ﾂﾙﾐﾁｭｳｵｳ', 'prefcode': '14', 'zipcode': '2300051'}\n",
      "None\n",
      "{'address1': '神奈川県', 'address2': '横浜市鶴見区', 'address3': '鶴見中央', 'kana1': 'ｶﾅｶﾞﾜｹﾝ', 'kana2': 'ﾖｺﾊﾏｼﾂﾙﾐｸ', 'kana3': 'ﾂﾙﾐﾁｭｳｵｳ', 'prefcode': '14', 'zipcode': '2300051'}\n",
      "None\n"
     ]
    },
    {
     "data": {
      "text/html": [
       "<div>\n",
       "<style scoped>\n",
       "    .dataframe tbody tr th:only-of-type {\n",
       "        vertical-align: middle;\n",
       "    }\n",
       "\n",
       "    .dataframe tbody tr th {\n",
       "        vertical-align: top;\n",
       "    }\n",
       "\n",
       "    .dataframe thead th {\n",
       "        text-align: right;\n",
       "    }\n",
       "</style>\n",
       "<table border=\"1\" class=\"dataframe\">\n",
       "  <thead>\n",
       "    <tr style=\"text-align: right;\">\n",
       "      <th></th>\n",
       "      <th>date</th>\n",
       "      <th>id</th>\n",
       "      <th>postalcode</th>\n",
       "      <th>addr</th>\n",
       "      <th>addrkana</th>\n",
       "      <th>pref</th>\n",
       "      <th>prefcode</th>\n",
       "    </tr>\n",
       "  </thead>\n",
       "  <tbody>\n",
       "    <tr>\n",
       "      <th>0</th>\n",
       "      <td>2月12日</td>\n",
       "      <td>11</td>\n",
       "      <td>2740807</td>\n",
       "      <td>千葉県船橋市咲が丘</td>\n",
       "      <td>ﾁﾊﾞｹﾝﾌﾅﾊﾞｼｼｻｷｶﾞｵｶ</td>\n",
       "      <td>12</td>\n",
       "      <td>12</td>\n",
       "    </tr>\n",
       "    <tr>\n",
       "      <th>1</th>\n",
       "      <td>5月10日</td>\n",
       "      <td>12</td>\n",
       "      <td>2300051</td>\n",
       "      <td>神奈川県横浜市鶴見区鶴見中央</td>\n",
       "      <td>ｶﾅｶﾞﾜｹﾝﾖｺﾊﾏｼﾂﾙﾐｸﾂﾙﾐﾁｭｳｵｳ</td>\n",
       "      <td>14</td>\n",
       "      <td>14</td>\n",
       "    </tr>\n",
       "    <tr>\n",
       "      <th>2</th>\n",
       "      <td>1月1日</td>\n",
       "      <td>13</td>\n",
       "      <td>2210668</td>\n",
       "      <td>None</td>\n",
       "      <td>None</td>\n",
       "      <td>None</td>\n",
       "      <td>None</td>\n",
       "    </tr>\n",
       "    <tr>\n",
       "      <th>3</th>\n",
       "      <td>1月2日</td>\n",
       "      <td>14</td>\n",
       "      <td>2300051</td>\n",
       "      <td>神奈川県横浜市鶴見区鶴見中央</td>\n",
       "      <td>ｶﾅｶﾞﾜｹﾝﾖｺﾊﾏｼﾂﾙﾐｸﾂﾙﾐﾁｭｳｵｳ</td>\n",
       "      <td>14</td>\n",
       "      <td>14</td>\n",
       "    </tr>\n",
       "    <tr>\n",
       "      <th>4</th>\n",
       "      <td>1月3日</td>\n",
       "      <td>15</td>\n",
       "      <td>1230000</td>\n",
       "      <td>None</td>\n",
       "      <td>None</td>\n",
       "      <td>None</td>\n",
       "      <td>None</td>\n",
       "    </tr>\n",
       "  </tbody>\n",
       "</table>\n",
       "</div>"
      ],
      "text/plain": [
       "    date  id  postalcode            addr                  addrkana  pref  \\\n",
       "0  2月12日  11     2740807       千葉県船橋市咲が丘         ﾁﾊﾞｹﾝﾌﾅﾊﾞｼｼｻｷｶﾞｵｶ    12   \n",
       "1  5月10日  12     2300051  神奈川県横浜市鶴見区鶴見中央  ｶﾅｶﾞﾜｹﾝﾖｺﾊﾏｼﾂﾙﾐｸﾂﾙﾐﾁｭｳｵｳ    14   \n",
       "2   1月1日  13     2210668            None                      None  None   \n",
       "3   1月2日  14     2300051  神奈川県横浜市鶴見区鶴見中央  ｶﾅｶﾞﾜｹﾝﾖｺﾊﾏｼﾂﾙﾐｸﾂﾙﾐﾁｭｳｵｳ    14   \n",
       "4   1月3日  15     1230000            None                      None  None   \n",
       "\n",
       "  prefcode  \n",
       "0       12  \n",
       "1       14  \n",
       "2     None  \n",
       "3       14  \n",
       "4     None  "
      ]
     },
     "execution_count": 40,
     "metadata": {},
     "output_type": "execute_result"
    }
   ],
   "source": [
    "df['addrall']  = df.postalcode.apply(postcode2addr)\n",
    "df['addr']     = df.addrall.apply(getaddr, args=['address'])\n",
    "df['addrkana'] = df.addrall.apply(getaddr, args=['kana'])\n",
    "df['prefcode']     = df.addrall.apply(getpref, args=['prefcode'])\n",
    "df.drop('addrall', axis=1)"
   ]
  },
  {
   "cell_type": "code",
   "execution_count": 39,
   "id": "6a4196ac",
   "metadata": {},
   "outputs": [
    {
     "data": {
      "text/html": [
       "<div>\n",
       "<style scoped>\n",
       "    .dataframe tbody tr th:only-of-type {\n",
       "        vertical-align: middle;\n",
       "    }\n",
       "\n",
       "    .dataframe tbody tr th {\n",
       "        vertical-align: top;\n",
       "    }\n",
       "\n",
       "    .dataframe thead th {\n",
       "        text-align: right;\n",
       "    }\n",
       "</style>\n",
       "<table border=\"1\" class=\"dataframe\">\n",
       "  <thead>\n",
       "    <tr style=\"text-align: right;\">\n",
       "      <th></th>\n",
       "      <th>date</th>\n",
       "      <th>id</th>\n",
       "      <th>postalcode</th>\n",
       "      <th>addrall</th>\n",
       "      <th>addr</th>\n",
       "      <th>addrkana</th>\n",
       "      <th>pref</th>\n",
       "    </tr>\n",
       "  </thead>\n",
       "  <tbody>\n",
       "    <tr>\n",
       "      <th>0</th>\n",
       "      <td>2月12日</td>\n",
       "      <td>11</td>\n",
       "      <td>2740807</td>\n",
       "      <td>{'address1': '千葉県', 'address2': '船橋市', 'addres...</td>\n",
       "      <td>千葉県船橋市咲が丘</td>\n",
       "      <td>ﾁﾊﾞｹﾝﾌﾅﾊﾞｼｼｻｷｶﾞｵｶ</td>\n",
       "      <td>12</td>\n",
       "    </tr>\n",
       "    <tr>\n",
       "      <th>1</th>\n",
       "      <td>5月10日</td>\n",
       "      <td>12</td>\n",
       "      <td>2300051</td>\n",
       "      <td>{'address1': '神奈川県', 'address2': '横浜市鶴見区', 'ad...</td>\n",
       "      <td>神奈川県横浜市鶴見区鶴見中央</td>\n",
       "      <td>ｶﾅｶﾞﾜｹﾝﾖｺﾊﾏｼﾂﾙﾐｸﾂﾙﾐﾁｭｳｵｳ</td>\n",
       "      <td>14</td>\n",
       "    </tr>\n",
       "    <tr>\n",
       "      <th>2</th>\n",
       "      <td>1月1日</td>\n",
       "      <td>13</td>\n",
       "      <td>2210668</td>\n",
       "      <td>None</td>\n",
       "      <td>None</td>\n",
       "      <td>None</td>\n",
       "      <td>None</td>\n",
       "    </tr>\n",
       "    <tr>\n",
       "      <th>3</th>\n",
       "      <td>1月2日</td>\n",
       "      <td>14</td>\n",
       "      <td>2300051</td>\n",
       "      <td>{'address1': '神奈川県', 'address2': '横浜市鶴見区', 'ad...</td>\n",
       "      <td>神奈川県横浜市鶴見区鶴見中央</td>\n",
       "      <td>ｶﾅｶﾞﾜｹﾝﾖｺﾊﾏｼﾂﾙﾐｸﾂﾙﾐﾁｭｳｵｳ</td>\n",
       "      <td>14</td>\n",
       "    </tr>\n",
       "    <tr>\n",
       "      <th>4</th>\n",
       "      <td>1月3日</td>\n",
       "      <td>15</td>\n",
       "      <td>1230000</td>\n",
       "      <td>None</td>\n",
       "      <td>None</td>\n",
       "      <td>None</td>\n",
       "      <td>None</td>\n",
       "    </tr>\n",
       "  </tbody>\n",
       "</table>\n",
       "</div>"
      ],
      "text/plain": [
       "    date  id  postalcode                                            addrall  \\\n",
       "0  2月12日  11     2740807  {'address1': '千葉県', 'address2': '船橋市', 'addres...   \n",
       "1  5月10日  12     2300051  {'address1': '神奈川県', 'address2': '横浜市鶴見区', 'ad...   \n",
       "2   1月1日  13     2210668                                               None   \n",
       "3   1月2日  14     2300051  {'address1': '神奈川県', 'address2': '横浜市鶴見区', 'ad...   \n",
       "4   1月3日  15     1230000                                               None   \n",
       "\n",
       "             addr                  addrkana  pref  \n",
       "0       千葉県船橋市咲が丘         ﾁﾊﾞｹﾝﾌﾅﾊﾞｼｼｻｷｶﾞｵｶ    12  \n",
       "1  神奈川県横浜市鶴見区鶴見中央  ｶﾅｶﾞﾜｹﾝﾖｺﾊﾏｼﾂﾙﾐｸﾂﾙﾐﾁｭｳｵｳ    14  \n",
       "2            None                      None  None  \n",
       "3  神奈川県横浜市鶴見区鶴見中央  ｶﾅｶﾞﾜｹﾝﾖｺﾊﾏｼﾂﾙﾐｸﾂﾙﾐﾁｭｳｵｳ    14  \n",
       "4            None                      None  None  "
      ]
     },
     "execution_count": 39,
     "metadata": {},
     "output_type": "execute_result"
    }
   ],
   "source": [
    "df"
   ]
  },
  {
   "cell_type": "code",
   "execution_count": 26,
   "id": "40af4e1c",
   "metadata": {},
   "outputs": [
    {
     "data": {
      "text/plain": [
       "0      12\n",
       "1      14\n",
       "2    None\n",
       "3      14\n",
       "4    None\n",
       "Name: pref, dtype: object"
      ]
     },
     "execution_count": 26,
     "metadata": {},
     "output_type": "execute_result"
    }
   ],
   "source": [
    "df['pref']"
   ]
  },
  {
   "cell_type": "code",
   "execution_count": 31,
   "id": "378452df",
   "metadata": {},
   "outputs": [],
   "source": [
    "def poscode2addr(text):\n",
    "    REQUEST_URL = \"http://zipcloud.ibsnet.co.jp/api/search?zipcode={0}\".format(text)\n",
    "    response = requests.get(REQUEST_URL)\n",
    "    json_to_dic_result = json.loads(response.text)\n",
    "    return json_to_dic_result\n",
    "\n",
    "sample = df.postalcode.apply(func1)"
   ]
  },
  {
   "cell_type": "code",
   "execution_count": 32,
   "id": "9529f095",
   "metadata": {},
   "outputs": [
    {
     "data": {
      "text/plain": [
       "0    {\\n\\t\"message\": null,\\n\\t\"results\": [\\n\\t\\t{\\n...\n",
       "1    {\\n\\t\"message\": null,\\n\\t\"results\": [\\n\\t\\t{\\n...\n",
       "2    {\\n\\t\"message\": null,\\n\\t\"results\": null,\\n\\t\"...\n",
       "3    {\\n\\t\"message\": null,\\n\\t\"results\": [\\n\\t\\t{\\n...\n",
       "4    {\\n\\t\"message\": null,\\n\\t\"results\": null,\\n\\t\"...\n",
       "Name: postalcode, dtype: object"
      ]
     },
     "execution_count": 32,
     "metadata": {},
     "output_type": "execute_result"
    }
   ],
   "source": [
    "sample"
   ]
  },
  {
   "cell_type": "code",
   "execution_count": 16,
   "id": "69581cd6",
   "metadata": {},
   "outputs": [],
   "source": [
    "RECEST_URL = \"http://zipcloud.ibsnet.co.jp/api/search?zipcode={0}\".format(2300051)"
   ]
  },
  {
   "cell_type": "code",
   "execution_count": null,
   "id": "a201ddda",
   "metadata": {},
   "outputs": [],
   "source": []
  },
  {
   "cell_type": "code",
   "execution_count": 17,
   "id": "bc2d8185",
   "metadata": {},
   "outputs": [],
   "source": [
    "response = requests.get(RECEST_URL)\n",
    "json_result = response.text"
   ]
  },
  {
   "cell_type": "code",
   "execution_count": 18,
   "id": "68fb9e80",
   "metadata": {},
   "outputs": [
    {
     "data": {
      "text/plain": [
       "'{\\n\\t\"message\": null,\\n\\t\"results\": [\\n\\t\\t{\\n\\t\\t\\t\"address1\": \"神奈川県\",\\n\\t\\t\\t\"address2\": \"横浜市鶴見区\",\\n\\t\\t\\t\"address3\": \"鶴見中央\",\\n\\t\\t\\t\"kana1\": \"ｶﾅｶﾞﾜｹﾝ\",\\n\\t\\t\\t\"kana2\": \"ﾖｺﾊﾏｼﾂﾙﾐｸ\",\\n\\t\\t\\t\"kana3\": \"ﾂﾙﾐﾁｭｳｵｳ\",\\n\\t\\t\\t\"prefcode\": \"14\",\\n\\t\\t\\t\"zipcode\": \"2300051\"\\n\\t\\t}\\n\\t],\\n\\t\"status\": 200\\n}'"
      ]
     },
     "execution_count": 18,
     "metadata": {},
     "output_type": "execute_result"
    }
   ],
   "source": [
    "json_result"
   ]
  },
  {
   "cell_type": "code",
   "execution_count": 19,
   "id": "b133939f",
   "metadata": {},
   "outputs": [],
   "source": [
    "json_to_dic_result = json.loads(response.text)"
   ]
  },
  {
   "cell_type": "code",
   "execution_count": 20,
   "id": "207bbcf0",
   "metadata": {},
   "outputs": [
    {
     "data": {
      "text/plain": [
       "{'message': None,\n",
       " 'results': [{'address1': '神奈川県',\n",
       "   'address2': '横浜市鶴見区',\n",
       "   'address3': '鶴見中央',\n",
       "   'kana1': 'ｶﾅｶﾞﾜｹﾝ',\n",
       "   'kana2': 'ﾖｺﾊﾏｼﾂﾙﾐｸ',\n",
       "   'kana3': 'ﾂﾙﾐﾁｭｳｵｳ',\n",
       "   'prefcode': '14',\n",
       "   'zipcode': '2300051'}],\n",
       " 'status': 200}"
      ]
     },
     "execution_count": 20,
     "metadata": {},
     "output_type": "execute_result"
    }
   ],
   "source": [
    "json_to_dic_result"
   ]
  },
  {
   "cell_type": "code",
   "execution_count": null,
   "id": "93d24e30",
   "metadata": {},
   "outputs": [],
   "source": []
  }
 ],
 "metadata": {
  "kernelspec": {
   "display_name": "Python 3",
   "language": "python",
   "name": "python3"
  },
  "language_info": {
   "codemirror_mode": {
    "name": "ipython",
    "version": 3
   },
   "file_extension": ".py",
   "mimetype": "text/x-python",
   "name": "python",
   "nbconvert_exporter": "python",
   "pygments_lexer": "ipython3",
   "version": "3.8.8"
  }
 },
 "nbformat": 4,
 "nbformat_minor": 5
}
